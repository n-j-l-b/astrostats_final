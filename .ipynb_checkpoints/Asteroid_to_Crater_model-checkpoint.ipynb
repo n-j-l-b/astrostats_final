{
 "cells": [
  {
   "cell_type": "code",
   "execution_count": 2,
   "metadata": {
    "colab": {
     "base_uri": "https://localhost:8080/"
    },
    "id": "yPz__I8kAKr1",
    "outputId": "9d6fdaa7-cdfc-4e40-8dae-a84c32c0c8e1"
   },
   "outputs": [],
   "source": [
    "#Import the necessary Libraries and Databases\n",
    "import pandas as pd\n",
    "import matplotlib.pyplot as plt\n",
    "import numpy as np\n",
    "\n",
    "craters= pd.read_csv('AstroStats_Robbins_Moon.csv', sep=',')\n",
    "asteroids = pd.read_csv('032822_NEOs_defined_diameters.csv', sep=',')"
   ]
  },
  {
   "cell_type": "code",
   "execution_count": 3,
   "metadata": {
    "colab": {
     "base_uri": "https://localhost:8080/",
     "height": 424
    },
    "id": "tHlDYCCAW5UO",
    "outputId": "28281dd3-d1ee-4ec9-afa9-14ec56623c57"
   },
   "outputs": [],
   "source": [
    "#We only care about asteroid diameters km (for now)\n",
    "a_diams = asteroids.loc[:,\"diameter\"]\n",
    "#we only have 1267 asteroids to model from, and we should do more analysis on the limitations of this database, and bias selection effects\n",
    "# display(asteroids)"
   ]
  },
  {
   "cell_type": "code",
   "execution_count": 4,
   "metadata": {
    "id": "PdXBhxYeY6XQ"
   },
   "outputs": [],
   "source": [
    "#We want to slice our data so that we are only looking at the range of LON/LAT we care about\n",
    "\n",
    "#first clean craters dataset from longitude and latitude NAN values\n",
    "c_craters = craters.dropna(subset=[\"LAT_CIRC_IMG\", \"LON_CIRC_IMG\"])\n",
    "# display(c_craters)"
   ]
  },
  {
   "cell_type": "code",
   "execution_count": 5,
   "metadata": {
    "id": "4qX3yt7_ZJCW"
   },
   "outputs": [],
   "source": [
    "#second, use conditions to select upper left region on moon craters\n",
    "updated_craters = c_craters[ (c_craters[\"LAT_CIRC_IMG\"] < 90) & (c_craters[\"LAT_CIRC_IMG\"] > 0) & (c_craters[\"LON_CIRC_IMG\"] > 270) & (c_craters[\"LON_CIRC_IMG\"] < 360)]\n",
    "# display(updated_craters)"
   ]
  },
  {
   "cell_type": "markdown",
   "metadata": {
    "id": "Ww8z8xmGcqMn"
   },
   "source": [
    "Other ideas:\n",
    "\n",
    "1) we can possibly spatially plot out these craters fr some more visual aid...\n",
    "\n",
    "2)plot current distribution of asteroid diameter sizes\n",
    "\n",
    "3)plot current distribution of crater diameter sizes\n",
    "\n",
    "--we need introduction of databases, limitations, how data was collected\n",
    "\n",
    "Look up Shoemaker, Jesse Dotson - Monte Carlo notebook there is a link\n",
    "Maybe first do an assumption that a crater is 10 times the size of the impactor?\n"
   ]
  },
  {
   "cell_type": "code",
   "execution_count": 6,
   "metadata": {
    "id": "RTRYV6hmajH_"
   },
   "outputs": [],
   "source": [
    "# NOTE: We decided not to follow these methods because of the unknown constant c3!\n",
    "\n",
    "#referencing Hughes 2002 https://academic.oup.com/mnras/article/338/4/999/1147769\n",
    "# referncing Hughes 1994 https://www.tandfonline.com/doi/abs/10.1080/00107519408224452\n",
    "\n",
    "c2 = 3.0\n",
    "c3 = 0 #unknown\n",
    "c4 = 2.59 #test different C4 values as well\n",
    "c6 = 2.59\n",
    "\n",
    "#value of c3 is not mentioned in Hughes 2002???\n",
    "\n",
    "#crater size D, impactor size d\n",
    "def crater_diam_from_asteroid(d):\n",
    "  D = np.exp( (3 * np.log(d) - c3) / c4 )\n",
    "  return D"
   ]
  },
  {
   "cell_type": "code",
   "execution_count": 14,
   "metadata": {},
   "outputs": [],
   "source": [
    "#referencing LeFeurve 2011 A.59-A.63, crater scaling laws \n",
    "#https://www.sciencedirect.com/science/article/pii/S0019103511000947\n",
    "\n",
    "#diameter of crater that is affected by Moon gravity according to Holsapple 1993\n",
    "D_trans = 8.5 #km\n",
    "\n",
    "g = .00162 #surface gravity of the moon in km/s\n",
    "\n",
    "#scaling parameters for porous materials taken from Holsapple and Housen (2007) \n",
    "#https://www.researchgate.net/publication/221986000_A_crater_and_its_ejecta_An_interpretation_of_Deep_Impact\n",
    "\n",
    "K = 1.03\n",
    "v1 = 0.17\n",
    "v2 = 0.332\n",
    "u = 0.41 #observed porosity value for moderate porosity soils\n",
    "\n",
    "#p and p0 are density of asteroid then Moon\n",
    "\n",
    "p = 2 #g/m^3 - just grabbed the educated assumption of 2, as opposed to krasinki\n",
    "p0 = 3.34 #g/cm^3\n",
    "\n",
    "#p0 given by this paper https://link.springer.com/article/10.1023/A:1006353510204\n",
    "#p pointed to in this wiki? https://en.wikipedia.org/wiki/Standard_asteroid_physical_characteristics#:~:text=Krasinsky%20et%20al.,and%205.32%20g%2Fcm3."
   ]
  },
  {
   "cell_type": "code",
   "execution_count": 18,
   "metadata": {},
   "outputs": [],
   "source": [
    "#NOTE: we need to include some way to include uncertainties\n",
    "#i.e. follow how observed uncertainties of asteroid diameters propogate into uncertainties of crater diameters\n",
    "def asteroid_to_crater(d):\n",
    "    \"\"\"Calculate the crater diameter from a given asteroid diameter according to crater scaling laws.\"\"\"\n",
    "    \n",
    "    D_perp = (d ** (1-v1)) * K * (u ** (2*v1)) * ((g ** (v1) * (p0/p) ** (v2)) ** (-1))\n",
    "    \n",
    "    #Dt factor taken from Melosh (1989) \n",
    "    Dt = D_perp / np.sin(np.pi / 2)\n",
    "    \n",
    "    D = Dt * 1.56\n",
    "    \n",
    "    #larger craters collapse more due to gravity according to Holsapple (1993)\n",
    "    if( D >= D_trans):\n",
    "        Ds = 0.98 * D_trans ** (0.079) * D ** (0.921)\n",
    "    else:\n",
    "        Ds = D\n",
    "    return D\n",
    "\n",
    "#still need to develop more if we want to reverse direction of analysis\n",
    "def crater_to_asteroid(D_perp):\n",
    "    \"\"\"Calculate the asteroid diameter from a given crater diameter according to crater scaling laws.\"\"\"\n",
    "    d = (K ** (-1) * D_perp * u ** (-2*v1) * g ** (v1) * (p0 / p) ** (v2) ) ** (1 / (1-v1))"
   ]
  },
  {
   "cell_type": "code",
   "execution_count": 19,
   "metadata": {},
   "outputs": [
    {
     "name": "stdout",
     "output_type": "stream",
     "text": [
      "2.9836571243398655\n"
     ]
    }
   ],
   "source": [
    "print(asteroid_to_crater(1))"
   ]
  },
  {
   "cell_type": "markdown",
   "metadata": {},
   "source": [
    "Next steps:\n",
    "\n",
    "1) determine uncertainties for calculated crater diameters\n",
    "\n",
    "2) run asteroid database through function and compare with observed craters\n",
    "\n",
    "    a) plot these results into histogram we discussed\n",
    "    \n",
    "3) implement Monte Carlo\n",
    "\n",
    "4) write up methods in paper\n",
    "\n",
    "Extras:\n",
    "\n",
    "1) spatial plots of craters we chose? color mapped?\n"
   ]
  },
  {
   "cell_type": "code",
   "execution_count": null,
   "metadata": {},
   "outputs": [],
   "source": []
  }
 ],
 "metadata": {
  "colab": {
   "collapsed_sections": [],
   "name": "AstrostatsFinalNaunet.ipynb",
   "provenance": []
  },
  "kernelspec": {
   "display_name": "Python 3",
   "language": "python",
   "name": "python3"
  },
  "language_info": {
   "codemirror_mode": {
    "name": "ipython",
    "version": 3
   },
   "file_extension": ".py",
   "mimetype": "text/x-python",
   "name": "python",
   "nbconvert_exporter": "python",
   "pygments_lexer": "ipython3",
   "version": "3.8.10"
  }
 },
 "nbformat": 4,
 "nbformat_minor": 1
}
